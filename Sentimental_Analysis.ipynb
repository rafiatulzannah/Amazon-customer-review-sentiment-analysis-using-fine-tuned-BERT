{
  "nbformat": 4,
  "nbformat_minor": 0,
  "metadata": {
    "colab": {
      "provenance": [],
      "gpuType": "T4",
      "authorship_tag": "ABX9TyOkLxEYDGyxNVBjD4hKilUq",
      "include_colab_link": true
    },
    "kernelspec": {
      "name": "python3",
      "display_name": "Python 3"
    },
    "language_info": {
      "name": "python"
    },
    "gpuClass": "standard",
    "accelerator": "GPU"
  },
  "cells": [
    {
      "cell_type": "markdown",
      "metadata": {
        "id": "view-in-github",
        "colab_type": "text"
      },
      "source": [
        "<a href=\"https://colab.research.google.com/github/rafiatulzannah/Amazon-customer-review-sentiment-analysis-using-fine-tuned-BERT/blob/main/Sentimental_Analysis.ipynb\" target=\"_parent\"><img src=\"https://colab.research.google.com/assets/colab-badge.svg\" alt=\"Open In Colab\"/></a>"
      ]
    },
    {
      "cell_type": "code",
      "execution_count": null,
      "metadata": {
        "colab": {
          "base_uri": "https://localhost:8080/"
        },
        "id": "X-HOcq0pMO6f",
        "outputId": "5fca49b9-015b-4b7d-b1e9-cc18d255670f"
      },
      "outputs": [
        {
          "output_type": "stream",
          "name": "stdout",
          "text": [
            "Mounted at /content/drive\n"
          ]
        }
      ],
      "source": [
        "from google.colab import drive\n",
        "drive.mount('/content/drive')"
      ]
    },
    {
      "cell_type": "code",
      "source": [
        "!pip install tensorflow-text"
      ],
      "metadata": {
        "id": "Z94EnfugMVuO"
      },
      "execution_count": null,
      "outputs": []
    },
    {
      "cell_type": "code",
      "source": [
        "# Import libraries\n",
        "import ast\n",
        "import pandas as pd\n",
        "import numpy as np\n",
        "import seaborn as sns\n",
        "import matplotlib.pyplot as plt\n",
        "from sklearn.feature_extraction.text import CountVectorizer\n",
        "from tqdm.notebook import tqdm\n",
        "import nltk\n",
        "import string\n",
        "import re\n",
        "%matplotlib inline\n",
        "pd.set_option('display.max_colwidth', 100)\n",
        "plt.style.use('ggplot')\n",
        "nltk.download('all')"
      ],
      "metadata": {
        "id": "46h_ZU4zMXpm"
      },
      "execution_count": null,
      "outputs": []
    },
    {
      "cell_type": "code",
      "source": [
        "import tensorflow as tf\n",
        "import tensorflow_hub as hub\n",
        "import tensorflow_text as text"
      ],
      "metadata": {
        "id": "p77HAPApMrzW"
      },
      "execution_count": null,
      "outputs": []
    },
    {
      "cell_type": "code",
      "source": [
        "import re\n",
        "!pip install scikit-learn"
      ],
      "metadata": {
        "id": "04_RhbYJMZc3"
      },
      "execution_count": null,
      "outputs": []
    },
    {
      "cell_type": "code",
      "source": [
        "df = pd.read_csv('/content/drive/MyDrive/final_dataset_v4.csv')"
      ],
      "metadata": {
        "id": "mdvK-SZvMbPQ"
      },
      "execution_count": null,
      "outputs": []
    },
    {
      "cell_type": "code",
      "source": [
        "df['recommended_v1'] = df['recommended'].apply(lambda i:1 if i == 'yes' else 0)\n",
        "df['reviews'] = [ ast.literal_eval(x) for x in df['text_lemmatized']]\n",
        "df['review'] = [ ' '.join(x) for x in df['reviews']]"
      ],
      "metadata": {
        "id": "ItF3ti-RMdtH"
      },
      "execution_count": null,
      "outputs": []
    },
    {
      "cell_type": "code",
      "source": [
        "df"
      ],
      "metadata": {
        "id": "a0sJCbgIMjk-"
      },
      "execution_count": null,
      "outputs": []
    },
    {
      "cell_type": "code",
      "source": [
        "from sklearn.feature_extraction.text import TfidfVectorizer"
      ],
      "metadata": {
        "id": "VjzC28yrOmx8"
      },
      "execution_count": null,
      "outputs": []
    },
    {
      "cell_type": "code",
      "source": [
        "vect = TfidfVectorizer()\n",
        "X = vect.fit_transform(df['review'])"
      ],
      "metadata": {
        "id": "ZtcmldunOiJE"
      },
      "execution_count": null,
      "outputs": []
    },
    {
      "cell_type": "code",
      "source": [
        "from sklearn.model_selection import train_test_split\n",
        "\n",
        "x_train, x_test, y_train, y_test = train_test_split(X, df['recommended_v1'], stratify=df['recommended_v1'])"
      ],
      "metadata": {
        "id": "_a7I7oDlMo61"
      },
      "execution_count": null,
      "outputs": []
    },
    {
      "cell_type": "code",
      "source": [
        "# for machine model import required libraries\n",
        "\n",
        "from sklearn.linear_model import LogisticRegression\n",
        "from sklearn.naive_bayes import MultinomialNB\n",
        "from sklearn.svm import LinearSVC\n",
        "from sklearn.metrics import accuracy_score, classification_report, confusion_matrix\n",
        "import warnings\n",
        "warnings.filterwarnings('ignore')"
      ],
      "metadata": {
        "id": "YrkmqykkOrvO"
      },
      "execution_count": null,
      "outputs": []
    },
    {
      "cell_type": "code",
      "source": [
        "# logistic Regression Model\n",
        "\n",
        "logreg = LogisticRegression()\n",
        "logreg.fit(x_train, y_train)\n",
        "logreg_pred= logreg.predict(x_test)\n",
        "logreg_acc = accuracy_score(logreg_pred,y_test)\n",
        "print(\"Test Accuracy: {:.2f}% \".format(logreg_acc*100))"
      ],
      "metadata": {
        "colab": {
          "base_uri": "https://localhost:8080/"
        },
        "id": "O7VxSUqlPG4Y",
        "outputId": "fa62d240-aa96-4062-dd48-c2b00930469f"
      },
      "execution_count": null,
      "outputs": [
        {
          "output_type": "stream",
          "name": "stdout",
          "text": [
            "Test Accuracy: 87.12% \n"
          ]
        }
      ]
    },
    {
      "cell_type": "code",
      "source": [
        "#confusion Metrics for Logistic Regression\n",
        "\n",
        "print(confusion_matrix(y_test, logreg_pred))\n",
        "print(\"\\n\")\n",
        "print(classification_report(y_test, logreg_pred))"
      ],
      "metadata": {
        "colab": {
          "base_uri": "https://localhost:8080/"
        },
        "id": "nHLrWCkcPLHX",
        "outputId": "f639fd0d-d228-4ec4-9369-2f8b72f47b3f"
      },
      "execution_count": null,
      "outputs": [
        {
          "output_type": "stream",
          "name": "stdout",
          "text": [
            "[[1520  694]\n",
            " [ 264 4961]]\n",
            "\n",
            "\n",
            "              precision    recall  f1-score   support\n",
            "\n",
            "           0       0.85      0.69      0.76      2214\n",
            "           1       0.88      0.95      0.91      5225\n",
            "\n",
            "    accuracy                           0.87      7439\n",
            "   macro avg       0.86      0.82      0.84      7439\n",
            "weighted avg       0.87      0.87      0.87      7439\n",
            "\n"
          ]
        }
      ]
    },
    {
      "cell_type": "code",
      "source": [
        "#multinomial naive bayes model\n",
        "\n",
        "mnultinb = MultinomialNB()\n",
        "mnultinb.fit(x_train, y_train)\n",
        "mnultinb_pred= mnultinb.predict(x_test)\n",
        "mnultinb_acc = accuracy_score(mnultinb_pred,y_test)\n",
        "print(\"Test Accuracy: {:.2f}% \".format(mnultinb_acc*100))"
      ],
      "metadata": {
        "colab": {
          "base_uri": "https://localhost:8080/"
        },
        "id": "QggliT-LPOVX",
        "outputId": "5aa22c4d-d1d6-4e68-faf3-f11fd8e4da7b"
      },
      "execution_count": null,
      "outputs": [
        {
          "output_type": "stream",
          "name": "stdout",
          "text": [
            "Test Accuracy: 80.10% \n"
          ]
        }
      ]
    },
    {
      "cell_type": "code",
      "source": [
        "#confusion Metrics for multinomial naive bayes model\n",
        "\n",
        "print(confusion_matrix(y_test, mnultinb_pred))\n",
        "print(\"\\n\")\n",
        "print(classification_report(y_test, mnultinb_pred))"
      ],
      "metadata": {
        "colab": {
          "base_uri": "https://localhost:8080/"
        },
        "id": "XBQ7OrcHPRbA",
        "outputId": "54670bbd-b7b3-4d61-9905-cd5dbe86cc6b"
      },
      "execution_count": null,
      "outputs": [
        {
          "output_type": "stream",
          "name": "stdout",
          "text": [
            "[[ 809 1405]\n",
            " [  75 5150]]\n",
            "\n",
            "\n",
            "              precision    recall  f1-score   support\n",
            "\n",
            "           0       0.92      0.37      0.52      2214\n",
            "           1       0.79      0.99      0.87      5225\n",
            "\n",
            "    accuracy                           0.80      7439\n",
            "   macro avg       0.85      0.68      0.70      7439\n",
            "weighted avg       0.82      0.80      0.77      7439\n",
            "\n"
          ]
        }
      ]
    },
    {
      "cell_type": "code",
      "source": [
        "#Linear SVC model\n",
        "lnrsvc = LinearSVC()\n",
        "lnrsvc.fit(x_train, y_train)\n",
        "lnrsvc_pred= lnrsvc.predict(x_test)\n",
        "lnrsvc_acc = accuracy_score(lnrsvc_pred,y_test)\n",
        "print(\"Test Accuracy: {:.2f}% \".format(lnrsvc_acc*100))"
      ],
      "metadata": {
        "colab": {
          "base_uri": "https://localhost:8080/"
        },
        "id": "oCYFVt_cPTjQ",
        "outputId": "567a57c9-e22b-4930-c008-ade6087b5753"
      },
      "execution_count": null,
      "outputs": [
        {
          "output_type": "stream",
          "name": "stdout",
          "text": [
            "Test Accuracy: 86.83% \n"
          ]
        }
      ]
    },
    {
      "cell_type": "code",
      "source": [
        "from sklearn.model_selection import cross_val_score\n",
        "# from sklearn.linear_model import LogisticRegression\n",
        "from sklearn.svm import SVC\n",
        "from sklearn import svm\n",
        "clf2 = svm.SVC(kernel='linear', C=1,probability=True)"
      ],
      "metadata": {
        "id": "eGwQ-kboCx-7"
      },
      "execution_count": null,
      "outputs": []
    },
    {
      "cell_type": "code",
      "source": [
        "#confusion Metrix for Linear SVC model\n",
        "\n",
        "print(confusion_matrix(y_test, lnrsvc_pred))\n",
        "print(\"\\n\")\n",
        "print(classification_report(y_test, lnrsvc_pred))"
      ],
      "metadata": {
        "colab": {
          "base_uri": "https://localhost:8080/"
        },
        "id": "xUPQjByfPVOx",
        "outputId": "1d6e441a-d903-4e21-c091-ad24186b95aa"
      },
      "execution_count": null,
      "outputs": [
        {
          "output_type": "stream",
          "name": "stdout",
          "text": [
            "[[1595  619]\n",
            " [ 361 4864]]\n",
            "\n",
            "\n",
            "              precision    recall  f1-score   support\n",
            "\n",
            "           0       0.82      0.72      0.76      2214\n",
            "           1       0.89      0.93      0.91      5225\n",
            "\n",
            "    accuracy                           0.87      7439\n",
            "   macro avg       0.85      0.83      0.84      7439\n",
            "weighted avg       0.87      0.87      0.87      7439\n",
            "\n"
          ]
        }
      ]
    },
    {
      "cell_type": "code",
      "source": [
        "#Fitting K-NN classifier to the training set\n",
        "from sklearn.neighbors import KNeighborsClassifier\n",
        "classifier= KNeighborsClassifier(n_neighbors=5, metric='minkowski', p=2 )\n",
        "classifier.fit(x_train, y_train)\n",
        "classifier_pred= classifier.predict(x_test)\n",
        "classifier_acc = accuracy_score(classifier_pred,y_test)\n",
        "print(\"Test Accuracy: {:.2f}% \".format(classifier_acc*100))"
      ],
      "metadata": {
        "colab": {
          "base_uri": "https://localhost:8080/"
        },
        "id": "h_csKbnBipsM",
        "outputId": "b281ab78-e78b-4a21-833d-d63f8249e2c2"
      },
      "execution_count": null,
      "outputs": [
        {
          "output_type": "stream",
          "name": "stdout",
          "text": [
            "Test Accuracy: 71.46% \n"
          ]
        }
      ]
    },
    {
      "cell_type": "code",
      "source": [
        "#confusion Metrix for Fitting K-NN classifier\n",
        "\n",
        "print(confusion_matrix(y_test, classifier_pred))\n",
        "print(\"\\n\")\n",
        "print(classification_report(y_test, classifier_pred))"
      ],
      "metadata": {
        "colab": {
          "base_uri": "https://localhost:8080/"
        },
        "id": "uJrTfaIbjL-0",
        "outputId": "787eb2d5-bd30-4222-b846-550b810cffb7"
      },
      "execution_count": null,
      "outputs": [
        {
          "output_type": "stream",
          "name": "stdout",
          "text": [
            "[[ 122 2092]\n",
            " [  31 5194]]\n",
            "\n",
            "\n",
            "              precision    recall  f1-score   support\n",
            "\n",
            "           0       0.80      0.06      0.10      2214\n",
            "           1       0.71      0.99      0.83      5225\n",
            "\n",
            "    accuracy                           0.71      7439\n",
            "   macro avg       0.76      0.52      0.47      7439\n",
            "weighted avg       0.74      0.71      0.61      7439\n",
            "\n"
          ]
        }
      ]
    },
    {
      "cell_type": "code",
      "source": [
        "from sklearn.pipeline import make_pipeline\n",
        "from lime.lime_text import LimeTextExplainer\n",
        "class_names=[0,1]\n",
        "c=make_pipeline(vect,classifier)\n",
        "explainer=LimeTextExplainer(class_names=class_names)"
      ],
      "metadata": {
        "id": "IrsTdlqFA_UD"
      },
      "execution_count": null,
      "outputs": []
    },
    {
      "cell_type": "code",
      "source": [
        "df3=pd.DataFrame()\n",
        "original_text = vect.inverse_transform(x_test)\n",
        "df3['data'] = [ ' '.join(x) for x in original_text]"
      ],
      "metadata": {
        "id": "ungiXa97BQsu"
      },
      "execution_count": null,
      "outputs": []
    },
    {
      "cell_type": "code",
      "source": [
        "exp = explainer.explain_instance(df3['data'][3], classifier_fn = c.predict_proba, num_features=10)"
      ],
      "metadata": {
        "id": "Lw4s_BuVBhnK"
      },
      "execution_count": null,
      "outputs": []
    },
    {
      "cell_type": "code",
      "source": [
        "#Fitting Decision Tree classifier to the training set\n",
        "from sklearn.ensemble import RandomForestClassifier\n",
        "classifier= RandomForestClassifier(n_estimators= 10, criterion=\"entropy\")\n",
        "classifier.fit(x_train, y_train)\n",
        "classifier_pred= classifier.predict(x_test)\n",
        "classifier_acc = accuracy_score(classifier_pred,y_test)\n",
        "print(\"Test Accuracy: {:.2f}% \".format(classifier_acc*100))"
      ],
      "metadata": {
        "colab": {
          "base_uri": "https://localhost:8080/"
        },
        "id": "guN1IH6JlUZh",
        "outputId": "e67f7a39-8e71-4786-8179-7da6279f430f"
      },
      "execution_count": null,
      "outputs": [
        {
          "output_type": "stream",
          "name": "stdout",
          "text": [
            "Test Accuracy: 82.18% \n"
          ]
        }
      ]
    },
    {
      "cell_type": "code",
      "source": [
        "#confusion Metrix for Fitting Decision Tree\n",
        "\n",
        "print(confusion_matrix(y_test, classifier_pred))\n",
        "print(\"\\n\")\n",
        "print(classification_report(y_test, classifier_pred))"
      ],
      "metadata": {
        "colab": {
          "base_uri": "https://localhost:8080/"
        },
        "id": "QMWQCOQ8laLE",
        "outputId": "623c8f2f-5f8b-4e49-d15b-2e4e8da99aba"
      },
      "execution_count": null,
      "outputs": [
        {
          "output_type": "stream",
          "name": "stdout",
          "text": [
            "[[1394  820]\n",
            " [ 506 4719]]\n",
            "\n",
            "\n",
            "              precision    recall  f1-score   support\n",
            "\n",
            "           0       0.73      0.63      0.68      2214\n",
            "           1       0.85      0.90      0.88      5225\n",
            "\n",
            "    accuracy                           0.82      7439\n",
            "   macro avg       0.79      0.77      0.78      7439\n",
            "weighted avg       0.82      0.82      0.82      7439\n",
            "\n"
          ]
        }
      ]
    },
    {
      "cell_type": "code",
      "source": [
        "# grid search cv for trying to improving the accuracy\n",
        "\n",
        "from sklearn.model_selection import GridSearchCV\n",
        "param_grid = {'C' : [0.1, 1, 10, 100], 'loss': ['hinge', 'squared_hinge']}\n",
        "grid = GridSearchCV(lnrsvc, param_grid, refit = True, verbose = 3)\n",
        "grid.fit(x_train, y_train)"
      ],
      "metadata": {
        "colab": {
          "base_uri": "https://localhost:8080/",
          "height": 828
        },
        "id": "RHKe7AxMPXGX",
        "outputId": "14494315-96f6-41de-ffd7-8ec8cbb88a99"
      },
      "execution_count": null,
      "outputs": [
        {
          "output_type": "stream",
          "name": "stdout",
          "text": [
            "Fitting 5 folds for each of 8 candidates, totalling 40 fits\n",
            "[CV 1/5] END .................C=0.1, loss=hinge;, score=0.837 total time=   0.1s\n",
            "[CV 2/5] END .................C=0.1, loss=hinge;, score=0.829 total time=   0.1s\n",
            "[CV 3/5] END .................C=0.1, loss=hinge;, score=0.832 total time=   0.1s\n",
            "[CV 4/5] END .................C=0.1, loss=hinge;, score=0.831 total time=   0.2s\n",
            "[CV 5/5] END .................C=0.1, loss=hinge;, score=0.833 total time=   0.2s\n",
            "[CV 1/5] END .........C=0.1, loss=squared_hinge;, score=0.871 total time=   0.2s\n",
            "[CV 2/5] END .........C=0.1, loss=squared_hinge;, score=0.861 total time=   0.3s\n",
            "[CV 3/5] END .........C=0.1, loss=squared_hinge;, score=0.866 total time=   0.1s\n",
            "[CV 4/5] END .........C=0.1, loss=squared_hinge;, score=0.865 total time=   0.1s\n",
            "[CV 5/5] END .........C=0.1, loss=squared_hinge;, score=0.869 total time=   0.0s\n",
            "[CV 1/5] END ...................C=1, loss=hinge;, score=0.874 total time=   0.3s\n",
            "[CV 2/5] END ...................C=1, loss=hinge;, score=0.868 total time=   0.2s\n",
            "[CV 3/5] END ...................C=1, loss=hinge;, score=0.868 total time=   0.2s\n",
            "[CV 4/5] END ...................C=1, loss=hinge;, score=0.877 total time=   0.3s\n",
            "[CV 5/5] END ...................C=1, loss=hinge;, score=0.866 total time=   0.3s\n",
            "[CV 1/5] END ...........C=1, loss=squared_hinge;, score=0.865 total time=   0.2s\n",
            "[CV 2/5] END ...........C=1, loss=squared_hinge;, score=0.861 total time=   0.2s\n",
            "[CV 3/5] END ...........C=1, loss=squared_hinge;, score=0.866 total time=   0.2s\n",
            "[CV 4/5] END ...........C=1, loss=squared_hinge;, score=0.872 total time=   0.2s\n",
            "[CV 5/5] END ...........C=1, loss=squared_hinge;, score=0.864 total time=   0.2s\n",
            "[CV 1/5] END ..................C=10, loss=hinge;, score=0.853 total time=   2.9s\n",
            "[CV 2/5] END ..................C=10, loss=hinge;, score=0.848 total time=   1.3s\n",
            "[CV 3/5] END ..................C=10, loss=hinge;, score=0.852 total time=   1.0s\n",
            "[CV 4/5] END ..................C=10, loss=hinge;, score=0.854 total time=   1.0s\n",
            "[CV 5/5] END ..................C=10, loss=hinge;, score=0.848 total time=   1.0s\n",
            "[CV 1/5] END ..........C=10, loss=squared_hinge;, score=0.847 total time=   0.6s\n",
            "[CV 2/5] END ..........C=10, loss=squared_hinge;, score=0.838 total time=   0.7s\n",
            "[CV 3/5] END ..........C=10, loss=squared_hinge;, score=0.843 total time=   0.6s\n",
            "[CV 4/5] END ..........C=10, loss=squared_hinge;, score=0.845 total time=   0.6s\n",
            "[CV 5/5] END ..........C=10, loss=squared_hinge;, score=0.845 total time=   1.0s\n",
            "[CV 1/5] END .................C=100, loss=hinge;, score=0.831 total time=   1.2s\n",
            "[CV 2/5] END .................C=100, loss=hinge;, score=0.818 total time=   1.2s\n",
            "[CV 3/5] END .................C=100, loss=hinge;, score=0.825 total time=   1.4s\n",
            "[CV 4/5] END .................C=100, loss=hinge;, score=0.827 total time=   1.6s\n",
            "[CV 5/5] END .................C=100, loss=hinge;, score=0.826 total time=   1.7s\n",
            "[CV 1/5] END .........C=100, loss=squared_hinge;, score=0.823 total time=   1.6s\n",
            "[CV 2/5] END .........C=100, loss=squared_hinge;, score=0.806 total time=   1.4s\n",
            "[CV 3/5] END .........C=100, loss=squared_hinge;, score=0.813 total time=   1.4s\n",
            "[CV 4/5] END .........C=100, loss=squared_hinge;, score=0.814 total time=   1.4s\n",
            "[CV 5/5] END .........C=100, loss=squared_hinge;, score=0.818 total time=   1.3s\n"
          ]
        },
        {
          "output_type": "execute_result",
          "data": {
            "text/plain": [
              "GridSearchCV(estimator=LinearSVC(C=1, loss='hinge'),\n",
              "             param_grid={'C': [0.1, 1, 10, 100],\n",
              "                         'loss': ['hinge', 'squared_hinge']},\n",
              "             verbose=3)"
            ],
            "text/html": [
              "<style>#sk-container-id-6 {color: black;background-color: white;}#sk-container-id-6 pre{padding: 0;}#sk-container-id-6 div.sk-toggleable {background-color: white;}#sk-container-id-6 label.sk-toggleable__label {cursor: pointer;display: block;width: 100%;margin-bottom: 0;padding: 0.3em;box-sizing: border-box;text-align: center;}#sk-container-id-6 label.sk-toggleable__label-arrow:before {content: \"▸\";float: left;margin-right: 0.25em;color: #696969;}#sk-container-id-6 label.sk-toggleable__label-arrow:hover:before {color: black;}#sk-container-id-6 div.sk-estimator:hover label.sk-toggleable__label-arrow:before {color: black;}#sk-container-id-6 div.sk-toggleable__content {max-height: 0;max-width: 0;overflow: hidden;text-align: left;background-color: #f0f8ff;}#sk-container-id-6 div.sk-toggleable__content pre {margin: 0.2em;color: black;border-radius: 0.25em;background-color: #f0f8ff;}#sk-container-id-6 input.sk-toggleable__control:checked~div.sk-toggleable__content {max-height: 200px;max-width: 100%;overflow: auto;}#sk-container-id-6 input.sk-toggleable__control:checked~label.sk-toggleable__label-arrow:before {content: \"▾\";}#sk-container-id-6 div.sk-estimator input.sk-toggleable__control:checked~label.sk-toggleable__label {background-color: #d4ebff;}#sk-container-id-6 div.sk-label input.sk-toggleable__control:checked~label.sk-toggleable__label {background-color: #d4ebff;}#sk-container-id-6 input.sk-hidden--visually {border: 0;clip: rect(1px 1px 1px 1px);clip: rect(1px, 1px, 1px, 1px);height: 1px;margin: -1px;overflow: hidden;padding: 0;position: absolute;width: 1px;}#sk-container-id-6 div.sk-estimator {font-family: monospace;background-color: #f0f8ff;border: 1px dotted black;border-radius: 0.25em;box-sizing: border-box;margin-bottom: 0.5em;}#sk-container-id-6 div.sk-estimator:hover {background-color: #d4ebff;}#sk-container-id-6 div.sk-parallel-item::after {content: \"\";width: 100%;border-bottom: 1px solid gray;flex-grow: 1;}#sk-container-id-6 div.sk-label:hover label.sk-toggleable__label {background-color: #d4ebff;}#sk-container-id-6 div.sk-serial::before {content: \"\";position: absolute;border-left: 1px solid gray;box-sizing: border-box;top: 0;bottom: 0;left: 50%;z-index: 0;}#sk-container-id-6 div.sk-serial {display: flex;flex-direction: column;align-items: center;background-color: white;padding-right: 0.2em;padding-left: 0.2em;position: relative;}#sk-container-id-6 div.sk-item {position: relative;z-index: 1;}#sk-container-id-6 div.sk-parallel {display: flex;align-items: stretch;justify-content: center;background-color: white;position: relative;}#sk-container-id-6 div.sk-item::before, #sk-container-id-6 div.sk-parallel-item::before {content: \"\";position: absolute;border-left: 1px solid gray;box-sizing: border-box;top: 0;bottom: 0;left: 50%;z-index: -1;}#sk-container-id-6 div.sk-parallel-item {display: flex;flex-direction: column;z-index: 1;position: relative;background-color: white;}#sk-container-id-6 div.sk-parallel-item:first-child::after {align-self: flex-end;width: 50%;}#sk-container-id-6 div.sk-parallel-item:last-child::after {align-self: flex-start;width: 50%;}#sk-container-id-6 div.sk-parallel-item:only-child::after {width: 0;}#sk-container-id-6 div.sk-dashed-wrapped {border: 1px dashed gray;margin: 0 0.4em 0.5em 0.4em;box-sizing: border-box;padding-bottom: 0.4em;background-color: white;}#sk-container-id-6 div.sk-label label {font-family: monospace;font-weight: bold;display: inline-block;line-height: 1.2em;}#sk-container-id-6 div.sk-label-container {text-align: center;}#sk-container-id-6 div.sk-container {/* jupyter's `normalize.less` sets `[hidden] { display: none; }` but bootstrap.min.css set `[hidden] { display: none !important; }` so we also need the `!important` here to be able to override the default hidden behavior on the sphinx rendered scikit-learn.org. See: https://github.com/scikit-learn/scikit-learn/issues/21755 */display: inline-block !important;position: relative;}#sk-container-id-6 div.sk-text-repr-fallback {display: none;}</style><div id=\"sk-container-id-6\" class=\"sk-top-container\"><div class=\"sk-text-repr-fallback\"><pre>GridSearchCV(estimator=LinearSVC(C=1, loss=&#x27;hinge&#x27;),\n",
              "             param_grid={&#x27;C&#x27;: [0.1, 1, 10, 100],\n",
              "                         &#x27;loss&#x27;: [&#x27;hinge&#x27;, &#x27;squared_hinge&#x27;]},\n",
              "             verbose=3)</pre><b>In a Jupyter environment, please rerun this cell to show the HTML representation or trust the notebook. <br />On GitHub, the HTML representation is unable to render, please try loading this page with nbviewer.org.</b></div><div class=\"sk-container\" hidden><div class=\"sk-item sk-dashed-wrapped\"><div class=\"sk-label-container\"><div class=\"sk-label sk-toggleable\"><input class=\"sk-toggleable__control sk-hidden--visually\" id=\"sk-estimator-id-16\" type=\"checkbox\" ><label for=\"sk-estimator-id-16\" class=\"sk-toggleable__label sk-toggleable__label-arrow\">GridSearchCV</label><div class=\"sk-toggleable__content\"><pre>GridSearchCV(estimator=LinearSVC(C=1, loss=&#x27;hinge&#x27;),\n",
              "             param_grid={&#x27;C&#x27;: [0.1, 1, 10, 100],\n",
              "                         &#x27;loss&#x27;: [&#x27;hinge&#x27;, &#x27;squared_hinge&#x27;]},\n",
              "             verbose=3)</pre></div></div></div><div class=\"sk-parallel\"><div class=\"sk-parallel-item\"><div class=\"sk-item\"><div class=\"sk-label-container\"><div class=\"sk-label sk-toggleable\"><input class=\"sk-toggleable__control sk-hidden--visually\" id=\"sk-estimator-id-17\" type=\"checkbox\" ><label for=\"sk-estimator-id-17\" class=\"sk-toggleable__label sk-toggleable__label-arrow\">estimator: LinearSVC</label><div class=\"sk-toggleable__content\"><pre>LinearSVC(C=1, loss=&#x27;hinge&#x27;)</pre></div></div></div><div class=\"sk-serial\"><div class=\"sk-item\"><div class=\"sk-estimator sk-toggleable\"><input class=\"sk-toggleable__control sk-hidden--visually\" id=\"sk-estimator-id-18\" type=\"checkbox\" ><label for=\"sk-estimator-id-18\" class=\"sk-toggleable__label sk-toggleable__label-arrow\">LinearSVC</label><div class=\"sk-toggleable__content\"><pre>LinearSVC(C=1, loss=&#x27;hinge&#x27;)</pre></div></div></div></div></div></div></div></div></div></div>"
            ]
          },
          "metadata": {},
          "execution_count": 40
        }
      ]
    },
    {
      "cell_type": "code",
      "source": [
        "print(\"Best Cross Validation Score: {:.2f}\".format(grid.best_score_))\n",
        "print(\"Best Parameters: \", grid.best_params_)"
      ],
      "metadata": {
        "colab": {
          "base_uri": "https://localhost:8080/"
        },
        "id": "gfoRuwxSPcYi",
        "outputId": "b863dd6c-3198-4551-b6f9-d815b865f43b"
      },
      "execution_count": null,
      "outputs": [
        {
          "output_type": "stream",
          "name": "stdout",
          "text": [
            "Best Cross Validation Score: 0.87\n",
            "Best Parameters:  {'C': 1, 'loss': 'hinge'}\n"
          ]
        }
      ]
    },
    {
      "cell_type": "code",
      "source": [
        "#Linear SVC model (Tuned)\n",
        "\n",
        "lnrsvc = LinearSVC(C = 1, loss = 'hinge')\n",
        "lnrsvc.fit(x_train, y_train)\n",
        "lnrsvc_pred= lnrsvc.predict(x_test)\n",
        "lnrsvc_acc = accuracy_score(lnrsvc_pred,y_test)\n",
        "print(\"Test Accuracy: {:.2f}% \".format(lnrsvc_acc*100))"
      ],
      "metadata": {
        "colab": {
          "base_uri": "https://localhost:8080/"
        },
        "id": "_kZa9PGjPezq",
        "outputId": "b1be9d9c-1593-48b0-ad5e-737352c6f8bd"
      },
      "execution_count": null,
      "outputs": [
        {
          "output_type": "stream",
          "name": "stdout",
          "text": [
            "Test Accuracy: 87.27% \n"
          ]
        }
      ]
    },
    {
      "cell_type": "code",
      "source": [
        "#confusion Metrix for Linear SVC model (Tuned)\n",
        "\n",
        "print(confusion_matrix(y_test, lnrsvc_pred))\n",
        "print(\"\\n\")\n",
        "print(classification_report(y_test, lnrsvc_pred))"
      ],
      "metadata": {
        "colab": {
          "base_uri": "https://localhost:8080/"
        },
        "id": "aAvvgmaBPhmx",
        "outputId": "85b7f931-4fdd-416c-db47-df85ae24832b"
      },
      "execution_count": null,
      "outputs": [
        {
          "output_type": "stream",
          "name": "stdout",
          "text": [
            "[[1574  640]\n",
            " [ 307 4918]]\n",
            "\n",
            "\n",
            "              precision    recall  f1-score   support\n",
            "\n",
            "           0       0.84      0.71      0.77      2214\n",
            "           1       0.88      0.94      0.91      5225\n",
            "\n",
            "    accuracy                           0.87      7439\n",
            "   macro avg       0.86      0.83      0.84      7439\n",
            "weighted avg       0.87      0.87      0.87      7439\n",
            "\n"
          ]
        }
      ]
    }
  ]
}